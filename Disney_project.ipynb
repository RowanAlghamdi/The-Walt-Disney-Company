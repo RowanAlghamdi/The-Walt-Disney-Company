{
 "cells": [
  {
   "cell_type": "markdown",
   "metadata": {},
   "source": [
    "# Exploratory data analysis of The Walt Disney Company datasets\n",
    "#### Student: Rawan Alghamdi"
   ]
  },
  {
   "cell_type": "markdown",
   "metadata": {},
   "source": [
    "## Foreword\n",
    "In this notebook, I will do some exploratory data analysis for the `Disney` dataset [1](https://data.world/kgarrett/disney-character-success-00-16).  I will be using the tables provided to answer questions that could be of interest to several sectors and businesses. "
   ]
  },
  {
   "cell_type": "markdown",
   "metadata": {},
   "source": [
    "# Introduction\n",
    "\n",
    "## Question(s) of interests\n",
    "In this analysis, I will be working with the collection of the `Disney` dataset to explore questions that could be used in several sectors, mainly businesses investing in Disney's products and services. \n",
    "\n",
    "I am interested in finding out the most popular genre and the most loved Disney hero in each genre based on their gross revenue. This is interesting and beneficial to know, especially for toy shops, souvenir shops and other places that want to increase their sales. I am expecting the **Musical** genre to be the most popular since Disney is knowns for having many hits songs. And **Elsa** from the movie Frozen to be the most famous hero. "
   ]
  },
  {
   "cell_type": "markdown",
   "metadata": {},
   "source": [
    "## Dataset description \n",
    "The Walt Disney Company is a multimedia entertainment company based in Burbank, California and identifies as one of the biggest and most well-known companies in the world. It has many divisions, such as Disney Parks and Products, Disney Media and Entertainment Distribution, The Walt Disney Studios and many more [2](https://thewaltdisneycompany.com/about/#our-businesses).\n",
    "\n",
    "\n",
    "The Disney dataset is composed of $5$ tables, `disney-characters.csv`, `disney-director.csv`, `disney-voice-actors.csv`, `disney_revenue_1991-2016.csv`, and `disney_movies_total_gross.csv`.  Each table is stored in the `.csv` format and contain different information about different divisions such as Disney characters, directors, songs and voice actors, total gross and more. For this analysis and to answer the proposed questions, I will be using three tables as follow:\n",
    "\n",
    "* **disney-characters.csv**\n",
    "> This file contains information on Disney movies including the movie titles, the release date, the hero, the villain and the main song of the movie.\n",
    "* **disney_movies_total_gross.csv**\n",
    "> This file includes information on Disney movies including movie titles, the release date, the movie genre, the MPAA rating(which are either G, PG, PG-13, R or Non), the total gross revenue and the total gross after inflation. \n",
    "* **disney_revenue_1991-2016.csv**\n",
    "> This file includes information on Disney revenue including the year from 1991 to 2016, the Studio Entertainment revenue, the Disney Consumer Products revenue, the Disney Interactive revenue, the Walt Disney Parks and Resorts revenue, the Disney Media Networks revenue and the total revenue for each year. "
   ]
  },
  {
   "cell_type": "markdown",
   "metadata": {},
   "source": [
    "# Methods and Results\n",
    "\n",
    "Since I am interested in finding the most popular genre of movies and heroes from each movie. I will be using both the total gross revenue and total gross post-inflation from the table `disney_movies_total_gross`. "
   ]
  },
  {
   "cell_type": "markdown",
   "metadata": {},
   "source": [
    "I will start by importing the tables and the libraries I will use for the analysis. Next, I will clean the data by removing unnecessary characters from the `disney-characters` data. "
   ]
  },
  {
   "cell_type": "code",
   "execution_count": 1,
   "metadata": {},
   "outputs": [],
   "source": [
    "# Import the required libraries needed for this analysis\n",
    "import altair as alt\n",
    "import pandas as pd\n",
    "\n",
    "# Import all the required files\n",
    "disney_characters = pd.read_csv(\n",
    "    \"data/disney-characters.csv\", parse_dates=[\"release_date\"]\n",
    ")\n",
    "disney_movies_total_gross = pd.read_csv(\n",
    "    \"data/disney_movies_total_gross.csv\", parse_dates=[\"release_date\"]\n",
    ")\n",
    "disney_revenue = pd.read_csv(\"data/disney_revenue_1991-2016.csv\")"
   ]
  },
  {
   "cell_type": "code",
   "execution_count": 2,
   "metadata": {},
   "outputs": [],
   "source": [
    "# Clean the column 'movie_title' in the data characters\n",
    "characters = disney_characters.assign(\n",
    "    movie_title=disney_characters[\"movie_title\"].str.strip(\"\\n\")\n",
    ")"
   ]
  },
  {
   "cell_type": "markdown",
   "metadata": {},
   "source": [
    "I will check what the characters table looks like and get some other information about it."
   ]
  },
  {
   "cell_type": "code",
   "execution_count": 3,
   "metadata": {},
   "outputs": [
    {
     "data": {
      "text/html": [
       "<div>\n",
       "<style scoped>\n",
       "    .dataframe tbody tr th:only-of-type {\n",
       "        vertical-align: middle;\n",
       "    }\n",
       "\n",
       "    .dataframe tbody tr th {\n",
       "        vertical-align: top;\n",
       "    }\n",
       "\n",
       "    .dataframe thead th {\n",
       "        text-align: right;\n",
       "    }\n",
       "</style>\n",
       "<table border=\"1\" class=\"dataframe\">\n",
       "  <thead>\n",
       "    <tr style=\"text-align: right;\">\n",
       "      <th></th>\n",
       "      <th>movie_title</th>\n",
       "      <th>release_date</th>\n",
       "      <th>hero</th>\n",
       "      <th>villian</th>\n",
       "      <th>song</th>\n",
       "    </tr>\n",
       "  </thead>\n",
       "  <tbody>\n",
       "    <tr>\n",
       "      <th>0</th>\n",
       "      <td>Snow White and the Seven Dwarfs</td>\n",
       "      <td>1937-12-21</td>\n",
       "      <td>Snow White</td>\n",
       "      <td>Evil Queen</td>\n",
       "      <td>Some Day My Prince Will Come</td>\n",
       "    </tr>\n",
       "    <tr>\n",
       "      <th>1</th>\n",
       "      <td>Pinocchio</td>\n",
       "      <td>1940-02-07</td>\n",
       "      <td>Pinocchio</td>\n",
       "      <td>Stromboli</td>\n",
       "      <td>When You Wish upon a Star</td>\n",
       "    </tr>\n",
       "    <tr>\n",
       "      <th>2</th>\n",
       "      <td>Fantasia</td>\n",
       "      <td>1940-11-13</td>\n",
       "      <td>NaN</td>\n",
       "      <td>Chernabog</td>\n",
       "      <td>NaN</td>\n",
       "    </tr>\n",
       "    <tr>\n",
       "      <th>3</th>\n",
       "      <td>Dumbo</td>\n",
       "      <td>1941-10-23</td>\n",
       "      <td>Dumbo</td>\n",
       "      <td>Ringmaster</td>\n",
       "      <td>Baby Mine</td>\n",
       "    </tr>\n",
       "    <tr>\n",
       "      <th>4</th>\n",
       "      <td>Bambi</td>\n",
       "      <td>1942-08-13</td>\n",
       "      <td>Bambi</td>\n",
       "      <td>Hunter</td>\n",
       "      <td>Love Is a Song</td>\n",
       "    </tr>\n",
       "  </tbody>\n",
       "</table>\n",
       "</div>"
      ],
      "text/plain": [
       "                       movie_title release_date        hero     villian  \\\n",
       "0  Snow White and the Seven Dwarfs   1937-12-21  Snow White  Evil Queen   \n",
       "1                        Pinocchio   1940-02-07   Pinocchio   Stromboli   \n",
       "2                         Fantasia   1940-11-13         NaN   Chernabog   \n",
       "3                            Dumbo   1941-10-23       Dumbo  Ringmaster   \n",
       "4                            Bambi   1942-08-13       Bambi      Hunter   \n",
       "\n",
       "                           song  \n",
       "0  Some Day My Prince Will Come  \n",
       "1     When You Wish upon a Star  \n",
       "2                           NaN  \n",
       "3                     Baby Mine  \n",
       "4                Love Is a Song  "
      ]
     },
     "execution_count": 3,
     "metadata": {},
     "output_type": "execute_result"
    }
   ],
   "source": [
    "characters.head()"
   ]
  },
  {
   "cell_type": "code",
   "execution_count": 4,
   "metadata": {},
   "outputs": [
    {
     "name": "stdout",
     "output_type": "stream",
     "text": [
      "<class 'pandas.core.frame.DataFrame'>\n",
      "RangeIndex: 56 entries, 0 to 55\n",
      "Data columns (total 5 columns):\n",
      " #   Column        Non-Null Count  Dtype         \n",
      "---  ------        --------------  -----         \n",
      " 0   movie_title   56 non-null     object        \n",
      " 1   release_date  56 non-null     datetime64[ns]\n",
      " 2   hero          52 non-null     object        \n",
      " 3   villian       46 non-null     object        \n",
      " 4   song          47 non-null     object        \n",
      "dtypes: datetime64[ns](1), object(4)\n",
      "memory usage: 2.3+ KB\n"
     ]
    }
   ],
   "source": [
    "characters.info()"
   ]
  },
  {
   "cell_type": "markdown",
   "metadata": {},
   "source": [
    "The `characters` table has $56 $ rows and $5$ columns. Every **movie_title** has a **release_date**, a **hero**, a **villian** and a **song**. However, we can see that some movies do not have a **hero**, a **villian** and a  **song**. I will later drop the NaN values in the column **hero** which I will be using in this analysis.\n",
    "\n",
    "Next, I will check what the `movies_total_gross` table looks like and get some other information about it."
   ]
  },
  {
   "cell_type": "code",
   "execution_count": 5,
   "metadata": {},
   "outputs": [
    {
     "data": {
      "text/html": [
       "<div>\n",
       "<style scoped>\n",
       "    .dataframe tbody tr th:only-of-type {\n",
       "        vertical-align: middle;\n",
       "    }\n",
       "\n",
       "    .dataframe tbody tr th {\n",
       "        vertical-align: top;\n",
       "    }\n",
       "\n",
       "    .dataframe thead th {\n",
       "        text-align: right;\n",
       "    }\n",
       "</style>\n",
       "<table border=\"1\" class=\"dataframe\">\n",
       "  <thead>\n",
       "    <tr style=\"text-align: right;\">\n",
       "      <th></th>\n",
       "      <th>movie_title</th>\n",
       "      <th>release_date</th>\n",
       "      <th>genre</th>\n",
       "      <th>MPAA_rating</th>\n",
       "      <th>total_gross</th>\n",
       "      <th>inflation_adjusted_gross</th>\n",
       "    </tr>\n",
       "  </thead>\n",
       "  <tbody>\n",
       "    <tr>\n",
       "      <th>0</th>\n",
       "      <td>Snow White and the Seven Dwarfs</td>\n",
       "      <td>1937-12-21</td>\n",
       "      <td>Musical</td>\n",
       "      <td>G</td>\n",
       "      <td>$184,925,485</td>\n",
       "      <td>$5,228,953,251</td>\n",
       "    </tr>\n",
       "    <tr>\n",
       "      <th>1</th>\n",
       "      <td>Pinocchio</td>\n",
       "      <td>1940-02-09</td>\n",
       "      <td>Adventure</td>\n",
       "      <td>G</td>\n",
       "      <td>$84,300,000</td>\n",
       "      <td>$2,188,229,052</td>\n",
       "    </tr>\n",
       "    <tr>\n",
       "      <th>2</th>\n",
       "      <td>Fantasia</td>\n",
       "      <td>1940-11-13</td>\n",
       "      <td>Musical</td>\n",
       "      <td>G</td>\n",
       "      <td>$83,320,000</td>\n",
       "      <td>$2,187,090,808</td>\n",
       "    </tr>\n",
       "    <tr>\n",
       "      <th>3</th>\n",
       "      <td>Song of the South</td>\n",
       "      <td>1946-11-12</td>\n",
       "      <td>Adventure</td>\n",
       "      <td>G</td>\n",
       "      <td>$65,000,000</td>\n",
       "      <td>$1,078,510,579</td>\n",
       "    </tr>\n",
       "    <tr>\n",
       "      <th>4</th>\n",
       "      <td>Cinderella</td>\n",
       "      <td>1950-02-15</td>\n",
       "      <td>Drama</td>\n",
       "      <td>G</td>\n",
       "      <td>$85,000,000</td>\n",
       "      <td>$920,608,730</td>\n",
       "    </tr>\n",
       "  </tbody>\n",
       "</table>\n",
       "</div>"
      ],
      "text/plain": [
       "                       movie_title release_date      genre MPAA_rating  \\\n",
       "0  Snow White and the Seven Dwarfs   1937-12-21    Musical           G   \n",
       "1                        Pinocchio   1940-02-09  Adventure           G   \n",
       "2                         Fantasia   1940-11-13    Musical           G   \n",
       "3                Song of the South   1946-11-12  Adventure           G   \n",
       "4                       Cinderella   1950-02-15      Drama           G   \n",
       "\n",
       "    total_gross inflation_adjusted_gross  \n",
       "0  $184,925,485           $5,228,953,251  \n",
       "1   $84,300,000           $2,188,229,052  \n",
       "2   $83,320,000           $2,187,090,808  \n",
       "3   $65,000,000           $1,078,510,579  \n",
       "4   $85,000,000             $920,608,730  "
      ]
     },
     "execution_count": 5,
     "metadata": {},
     "output_type": "execute_result"
    }
   ],
   "source": [
    "disney_movies_total_gross.head()"
   ]
  },
  {
   "cell_type": "code",
   "execution_count": 6,
   "metadata": {},
   "outputs": [
    {
     "name": "stdout",
     "output_type": "stream",
     "text": [
      "<class 'pandas.core.frame.DataFrame'>\n",
      "RangeIndex: 579 entries, 0 to 578\n",
      "Data columns (total 6 columns):\n",
      " #   Column                    Non-Null Count  Dtype         \n",
      "---  ------                    --------------  -----         \n",
      " 0   movie_title               579 non-null    object        \n",
      " 1   release_date              579 non-null    datetime64[ns]\n",
      " 2   genre                     562 non-null    object        \n",
      " 3   MPAA_rating               523 non-null    object        \n",
      " 4   total_gross               579 non-null    object        \n",
      " 5   inflation_adjusted_gross  579 non-null    object        \n",
      "dtypes: datetime64[ns](1), object(5)\n",
      "memory usage: 27.3+ KB\n"
     ]
    }
   ],
   "source": [
    "disney_movies_total_gross.info()"
   ]
  },
  {
   "cell_type": "markdown",
   "metadata": {},
   "source": [
    "The `disney_movies_total_gross` table has $579$ rows and $6$ columns. Every **movie_title** has a **release_date**, a **genre**, a **MPAA_rating**, a **total_gross** and an **inflation_adjusted_gross** value. However, we can see that some movies do not have a categorized **genre** or **MPAA_rating**. \n",
    "\n",
    "I will now clean unnecessary characters from the columns **total_gross** and **inflation_adjusted_gross** to be able to adjust their dtype to integers. "
   ]
  },
  {
   "cell_type": "code",
   "execution_count": 7,
   "metadata": {},
   "outputs": [],
   "source": [
    "# Clean the columns 'inflation_adjusted_gross' and 'total_gross' in the data movies_total_gross\n",
    "movies_total_gross = disney_movies_total_gross.assign(\n",
    "    inflation_adjusted_gross=disney_movies_total_gross[\n",
    "        \"inflation_adjusted_gross\"\n",
    "    ].str.strip(\"$\"),\n",
    "    total_gross=disney_movies_total_gross[\"total_gross\"].str.strip(\"$\"),\n",
    ")\n",
    "\n",
    "movies_total_gross = movies_total_gross.assign(\n",
    "    inflation_adjusted_gross=movies_total_gross[\"inflation_adjusted_gross\"].str.replace(\n",
    "        \",\", \"\"\n",
    "    ),\n",
    "    total_gross=movies_total_gross[\"total_gross\"].str.replace(\",\", \"\"),\n",
    ")\n",
    "# Change the type to an integer\n",
    "movies_total_gross = movies_total_gross.astype(\n",
    "    {\"inflation_adjusted_gross\": int, \"total_gross\": int}\n",
    ")"
   ]
  },
  {
   "cell_type": "markdown",
   "metadata": {},
   "source": [
    "Lastly, I will check what the `disney_revenue` table looks like and get some other information about it"
   ]
  },
  {
   "cell_type": "code",
   "execution_count": 8,
   "metadata": {},
   "outputs": [
    {
     "data": {
      "text/html": [
       "<div>\n",
       "<style scoped>\n",
       "    .dataframe tbody tr th:only-of-type {\n",
       "        vertical-align: middle;\n",
       "    }\n",
       "\n",
       "    .dataframe tbody tr th {\n",
       "        vertical-align: top;\n",
       "    }\n",
       "\n",
       "    .dataframe thead th {\n",
       "        text-align: right;\n",
       "    }\n",
       "</style>\n",
       "<table border=\"1\" class=\"dataframe\">\n",
       "  <thead>\n",
       "    <tr style=\"text-align: right;\">\n",
       "      <th></th>\n",
       "      <th>Year</th>\n",
       "      <th>Studio Entertainment[NI 1]</th>\n",
       "      <th>Disney Consumer Products[NI 2]</th>\n",
       "      <th>Disney Interactive[NI 3][Rev 1]</th>\n",
       "      <th>Walt Disney Parks and Resorts</th>\n",
       "      <th>Disney Media Networks</th>\n",
       "      <th>Total</th>\n",
       "    </tr>\n",
       "  </thead>\n",
       "  <tbody>\n",
       "    <tr>\n",
       "      <th>0</th>\n",
       "      <td>1991</td>\n",
       "      <td>2593.0</td>\n",
       "      <td>724.0</td>\n",
       "      <td>NaN</td>\n",
       "      <td>2794.0</td>\n",
       "      <td>NaN</td>\n",
       "      <td>6111</td>\n",
       "    </tr>\n",
       "    <tr>\n",
       "      <th>1</th>\n",
       "      <td>1992</td>\n",
       "      <td>3115.0</td>\n",
       "      <td>1081.0</td>\n",
       "      <td>NaN</td>\n",
       "      <td>3306.0</td>\n",
       "      <td>NaN</td>\n",
       "      <td>7502</td>\n",
       "    </tr>\n",
       "    <tr>\n",
       "      <th>2</th>\n",
       "      <td>1993</td>\n",
       "      <td>3673.4</td>\n",
       "      <td>1415.1</td>\n",
       "      <td>NaN</td>\n",
       "      <td>3440.7</td>\n",
       "      <td>NaN</td>\n",
       "      <td>8529</td>\n",
       "    </tr>\n",
       "    <tr>\n",
       "      <th>3</th>\n",
       "      <td>1994</td>\n",
       "      <td>4793.0</td>\n",
       "      <td>1798.2</td>\n",
       "      <td>NaN</td>\n",
       "      <td>3463.6</td>\n",
       "      <td>359</td>\n",
       "      <td>10414</td>\n",
       "    </tr>\n",
       "    <tr>\n",
       "      <th>4</th>\n",
       "      <td>1995</td>\n",
       "      <td>6001.5</td>\n",
       "      <td>2150.0</td>\n",
       "      <td>NaN</td>\n",
       "      <td>3959.8</td>\n",
       "      <td>414</td>\n",
       "      <td>12525</td>\n",
       "    </tr>\n",
       "  </tbody>\n",
       "</table>\n",
       "</div>"
      ],
      "text/plain": [
       "   Year  Studio Entertainment[NI 1]  Disney Consumer Products[NI 2]  \\\n",
       "0  1991                      2593.0                           724.0   \n",
       "1  1992                      3115.0                          1081.0   \n",
       "2  1993                      3673.4                          1415.1   \n",
       "3  1994                      4793.0                          1798.2   \n",
       "4  1995                      6001.5                          2150.0   \n",
       "\n",
       "   Disney Interactive[NI 3][Rev 1]  Walt Disney Parks and Resorts  \\\n",
       "0                              NaN                         2794.0   \n",
       "1                              NaN                         3306.0   \n",
       "2                              NaN                         3440.7   \n",
       "3                              NaN                         3463.6   \n",
       "4                              NaN                         3959.8   \n",
       "\n",
       "  Disney Media Networks  Total  \n",
       "0                   NaN   6111  \n",
       "1                   NaN   7502  \n",
       "2                   NaN   8529  \n",
       "3                   359  10414  \n",
       "4                   414  12525  "
      ]
     },
     "execution_count": 8,
     "metadata": {},
     "output_type": "execute_result"
    }
   ],
   "source": [
    "disney_revenue.head()"
   ]
  },
  {
   "cell_type": "code",
   "execution_count": 9,
   "metadata": {},
   "outputs": [
    {
     "name": "stdout",
     "output_type": "stream",
     "text": [
      "<class 'pandas.core.frame.DataFrame'>\n",
      "RangeIndex: 26 entries, 0 to 25\n",
      "Data columns (total 7 columns):\n",
      " #   Column                           Non-Null Count  Dtype  \n",
      "---  ------                           --------------  -----  \n",
      " 0   Year                             26 non-null     int64  \n",
      " 1   Studio Entertainment[NI 1]       25 non-null     float64\n",
      " 2   Disney Consumer Products[NI 2]   24 non-null     float64\n",
      " 3   Disney Interactive[NI 3][Rev 1]  12 non-null     float64\n",
      " 4   Walt Disney Parks and Resorts    26 non-null     float64\n",
      " 5   Disney Media Networks            23 non-null     object \n",
      " 6   Total                            26 non-null     int64  \n",
      "dtypes: float64(4), int64(2), object(1)\n",
      "memory usage: 1.5+ KB\n"
     ]
    }
   ],
   "source": [
    "disney_revenue.info()"
   ]
  },
  {
   "cell_type": "markdown",
   "metadata": {},
   "source": [
    "The `disney_revenue` table has $26$ rows and $7$ columns. Every **year** has a **Studio Entertainment**, a **Disney Consumer Products**, a **Disney Interactive**, a **Walt Disney Parks and Resorts**, a **Disney Media Networks** and **Total** value. We can see many missing/NaN values in the table. We will lose a big portion of the table if we were to drop the missing values. Hence, I will only use the **Total** column for this analysis since it is incomplete. \n",
    "\n",
    "Next, I will import and use the custom-made function that takes in a data frame and groups it by a certain column and then takes the average revenue. We can use gross revenue, net revenue or revenue after inflation. The function also optionally returns a bar plot to visualize the data. "
   ]
  },
  {
   "cell_type": "code",
   "execution_count": 10,
   "metadata": {},
   "outputs": [],
   "source": [
    "# Importing the function average_revenue\n",
    "from average_revenue import average_revenue"
   ]
  },
  {
   "cell_type": "markdown",
   "metadata": {},
   "source": [
    "For the first visulasiation, I want to know the most poular genra based on the average of total gross. "
   ]
  },
  {
   "cell_type": "code",
   "execution_count": 11,
   "metadata": {},
   "outputs": [
    {
     "name": "stdout",
     "output_type": "stream",
     "text": [
      "Adventure in genre have the highest avergae total_gross of 127047050.02325581\n",
      "Documentary in genre have the lowest avergae total_gross of 11292851.1875\n"
     ]
    },
    {
     "data": {
      "text/html": [
       "\n",
       "<div id=\"altair-viz-6a1df4bd1bc1464b8642894bfec6b473\"></div>\n",
       "<script type=\"text/javascript\">\n",
       "  var VEGA_DEBUG = (typeof VEGA_DEBUG == \"undefined\") ? {} : VEGA_DEBUG;\n",
       "  (function(spec, embedOpt){\n",
       "    let outputDiv = document.currentScript.previousElementSibling;\n",
       "    if (outputDiv.id !== \"altair-viz-6a1df4bd1bc1464b8642894bfec6b473\") {\n",
       "      outputDiv = document.getElementById(\"altair-viz-6a1df4bd1bc1464b8642894bfec6b473\");\n",
       "    }\n",
       "    const paths = {\n",
       "      \"vega\": \"https://cdn.jsdelivr.net/npm//vega@5?noext\",\n",
       "      \"vega-lib\": \"https://cdn.jsdelivr.net/npm//vega-lib?noext\",\n",
       "      \"vega-lite\": \"https://cdn.jsdelivr.net/npm//vega-lite@4.17.0?noext\",\n",
       "      \"vega-embed\": \"https://cdn.jsdelivr.net/npm//vega-embed@6?noext\",\n",
       "    };\n",
       "\n",
       "    function maybeLoadScript(lib, version) {\n",
       "      var key = `${lib.replace(\"-\", \"\")}_version`;\n",
       "      return (VEGA_DEBUG[key] == version) ?\n",
       "        Promise.resolve(paths[lib]) :\n",
       "        new Promise(function(resolve, reject) {\n",
       "          var s = document.createElement('script');\n",
       "          document.getElementsByTagName(\"head\")[0].appendChild(s);\n",
       "          s.async = true;\n",
       "          s.onload = () => {\n",
       "            VEGA_DEBUG[key] = version;\n",
       "            return resolve(paths[lib]);\n",
       "          };\n",
       "          s.onerror = () => reject(`Error loading script: ${paths[lib]}`);\n",
       "          s.src = paths[lib];\n",
       "        });\n",
       "    }\n",
       "\n",
       "    function showError(err) {\n",
       "      outputDiv.innerHTML = `<div class=\"error\" style=\"color:red;\">${err}</div>`;\n",
       "      throw err;\n",
       "    }\n",
       "\n",
       "    function displayChart(vegaEmbed) {\n",
       "      vegaEmbed(outputDiv, spec, embedOpt)\n",
       "        .catch(err => showError(`Javascript Error: ${err.message}<br>This usually means there's a typo in your chart specification. See the javascript console for the full traceback.`));\n",
       "    }\n",
       "\n",
       "    if(typeof define === \"function\" && define.amd) {\n",
       "      requirejs.config({paths});\n",
       "      require([\"vega-embed\"], displayChart, err => showError(`Error loading script: ${err.message}`));\n",
       "    } else {\n",
       "      maybeLoadScript(\"vega\", \"5\")\n",
       "        .then(() => maybeLoadScript(\"vega-lite\", \"4.17.0\"))\n",
       "        .then(() => maybeLoadScript(\"vega-embed\", \"6\"))\n",
       "        .catch(showError)\n",
       "        .then(() => displayChart(vegaEmbed));\n",
       "    }\n",
       "  })({\"config\": {\"view\": {\"continuousWidth\": 400, \"continuousHeight\": 300}}, \"data\": {\"name\": \"data-6d96d1aca8a40627505fd2daaec5b242\"}, \"mark\": {\"type\": \"bar\", \"color\": \"pink\"}, \"encoding\": {\"x\": {\"field\": \"genre\", \"sort\": \"y\", \"title\": \"Genre\", \"type\": \"nominal\"}, \"y\": {\"field\": \"total_gross\", \"title\": \"Total_gross\", \"type\": \"quantitative\"}}, \"height\": 300, \"title\": \"Genre vs. Total_gross\", \"width\": 500, \"$schema\": \"https://vega.github.io/schema/vega-lite/v4.17.0.json\", \"datasets\": {\"data-6d96d1aca8a40627505fd2daaec5b242\": [{\"genre\": \"Adventure\", \"total_gross\": 127047050.02325581}, {\"genre\": \"Action\", \"total_gross\": 104614082.05}, {\"genre\": \"Musical\", \"total_gross\": 72330259.6875}, {\"genre\": \"Thriller/Suspense\", \"total_gross\": 58616938.291666664}, {\"genre\": \"Concert/Performance\", \"total_gross\": 51728233.0}, {\"genre\": \"Western\", \"total_gross\": 51287351.28571428}, {\"genre\": \"Romantic Comedy\", \"total_gross\": 50095950.217391305}, {\"genre\": \"Comedy\", \"total_gross\": 44613294.93406593}, {\"genre\": \"Drama\", \"total_gross\": 36026078.684210524}, {\"genre\": \"Black Comedy\", \"total_gross\": 32514404.0}, {\"genre\": \"Horror\", \"total_gross\": 14511478.666666666}, {\"genre\": \"Documentary\", \"total_gross\": 11292851.1875}]}}, {\"mode\": \"vega-lite\"});\n",
       "</script>"
      ],
      "text/plain": [
       "alt.Chart(...)"
      ]
     },
     "metadata": {},
     "output_type": "display_data"
    }
   ],
   "source": [
    "popular_genre = average_revenue(movies_total_gross, \"genre\", \"total_gross\", \"show\")"
   ]
  },
  {
   "cell_type": "markdown",
   "metadata": {},
   "source": [
    "It turns out that Adventure has the highest average total gross followed by Action and Musical genres. \n",
    "\n",
    "Next, I will plot the second visualization using the total adjusted gross after inflation to explore how inflation affected the total gross over the years."
   ]
  },
  {
   "cell_type": "code",
   "execution_count": 12,
   "metadata": {},
   "outputs": [
    {
     "name": "stdout",
     "output_type": "stream",
     "text": [
      "Musical in genre have the highest avergae inflation_adjusted_gross of 603597861.0\n",
      "Documentary in genre have the lowest avergae inflation_adjusted_gross of 12718026.125\n"
     ]
    },
    {
     "data": {
      "text/html": [
       "\n",
       "<div id=\"altair-viz-ec4d64bab5a6455ba529528d40dfeef9\"></div>\n",
       "<script type=\"text/javascript\">\n",
       "  var VEGA_DEBUG = (typeof VEGA_DEBUG == \"undefined\") ? {} : VEGA_DEBUG;\n",
       "  (function(spec, embedOpt){\n",
       "    let outputDiv = document.currentScript.previousElementSibling;\n",
       "    if (outputDiv.id !== \"altair-viz-ec4d64bab5a6455ba529528d40dfeef9\") {\n",
       "      outputDiv = document.getElementById(\"altair-viz-ec4d64bab5a6455ba529528d40dfeef9\");\n",
       "    }\n",
       "    const paths = {\n",
       "      \"vega\": \"https://cdn.jsdelivr.net/npm//vega@5?noext\",\n",
       "      \"vega-lib\": \"https://cdn.jsdelivr.net/npm//vega-lib?noext\",\n",
       "      \"vega-lite\": \"https://cdn.jsdelivr.net/npm//vega-lite@4.17.0?noext\",\n",
       "      \"vega-embed\": \"https://cdn.jsdelivr.net/npm//vega-embed@6?noext\",\n",
       "    };\n",
       "\n",
       "    function maybeLoadScript(lib, version) {\n",
       "      var key = `${lib.replace(\"-\", \"\")}_version`;\n",
       "      return (VEGA_DEBUG[key] == version) ?\n",
       "        Promise.resolve(paths[lib]) :\n",
       "        new Promise(function(resolve, reject) {\n",
       "          var s = document.createElement('script');\n",
       "          document.getElementsByTagName(\"head\")[0].appendChild(s);\n",
       "          s.async = true;\n",
       "          s.onload = () => {\n",
       "            VEGA_DEBUG[key] = version;\n",
       "            return resolve(paths[lib]);\n",
       "          };\n",
       "          s.onerror = () => reject(`Error loading script: ${paths[lib]}`);\n",
       "          s.src = paths[lib];\n",
       "        });\n",
       "    }\n",
       "\n",
       "    function showError(err) {\n",
       "      outputDiv.innerHTML = `<div class=\"error\" style=\"color:red;\">${err}</div>`;\n",
       "      throw err;\n",
       "    }\n",
       "\n",
       "    function displayChart(vegaEmbed) {\n",
       "      vegaEmbed(outputDiv, spec, embedOpt)\n",
       "        .catch(err => showError(`Javascript Error: ${err.message}<br>This usually means there's a typo in your chart specification. See the javascript console for the full traceback.`));\n",
       "    }\n",
       "\n",
       "    if(typeof define === \"function\" && define.amd) {\n",
       "      requirejs.config({paths});\n",
       "      require([\"vega-embed\"], displayChart, err => showError(`Error loading script: ${err.message}`));\n",
       "    } else {\n",
       "      maybeLoadScript(\"vega\", \"5\")\n",
       "        .then(() => maybeLoadScript(\"vega-lite\", \"4.17.0\"))\n",
       "        .then(() => maybeLoadScript(\"vega-embed\", \"6\"))\n",
       "        .catch(showError)\n",
       "        .then(() => displayChart(vegaEmbed));\n",
       "    }\n",
       "  })({\"config\": {\"view\": {\"continuousWidth\": 400, \"continuousHeight\": 300}}, \"data\": {\"name\": \"data-18dda85fad336e17ac8911b580eaa152\"}, \"mark\": {\"type\": \"bar\", \"color\": \"pink\"}, \"encoding\": {\"x\": {\"field\": \"genre\", \"sort\": \"y\", \"title\": \"Genre\", \"type\": \"nominal\"}, \"y\": {\"field\": \"inflation_adjusted_gross\", \"title\": \"Inflation_adjusted_gross\", \"type\": \"quantitative\"}}, \"height\": 300, \"title\": \"Genre vs. Inflation_adjusted_gross\", \"width\": 500, \"$schema\": \"https://vega.github.io/schema/vega-lite/v4.17.0.json\", \"datasets\": {\"data-18dda85fad336e17ac8911b580eaa152\": [{\"genre\": \"Musical\", \"inflation_adjusted_gross\": 603597861.0}, {\"genre\": \"Adventure\", \"inflation_adjusted_gross\": 190397412.0775194}, {\"genre\": \"Action\", \"inflation_adjusted_gross\": 137473419.65}, {\"genre\": \"Thriller/Suspense\", \"inflation_adjusted_gross\": 89653789.75}, {\"genre\": \"Comedy\", \"inflation_adjusted_gross\": 84667730.29120879}, {\"genre\": \"Romantic Comedy\", \"inflation_adjusted_gross\": 77777084.04347827}, {\"genre\": \"Western\", \"inflation_adjusted_gross\": 73815706.57142857}, {\"genre\": \"Drama\", \"inflation_adjusted_gross\": 71893021.78947368}, {\"genre\": \"Concert/Performance\", \"inflation_adjusted_gross\": 57410839.0}, {\"genre\": \"Black Comedy\", \"inflation_adjusted_gross\": 52243491.666666664}, {\"genre\": \"Horror\", \"inflation_adjusted_gross\": 23413848.666666668}, {\"genre\": \"Documentary\", \"inflation_adjusted_gross\": 12718026.125}]}}, {\"mode\": \"vega-lite\"});\n",
       "</script>"
      ],
      "text/plain": [
       "alt.Chart(...)"
      ]
     },
     "metadata": {},
     "output_type": "display_data"
    }
   ],
   "source": [
    "popular_genre_adjusted = average_revenue(\n",
    "    movies_total_gross, \"genre\", \"inflation_adjusted_gross\", \"show\"\n",
    ")"
   ]
  },
  {
   "cell_type": "markdown",
   "metadata": {},
   "source": [
    "After inflation, It turns out that Musical has the highest average total gross after inflation followed by Aventure and Action genres. There is a drastic difference between the Musical and Adventure genres in the second visualization. Hence, the Musical genre is the most popular one based on the adjusted total gross after inflation as we expected. \n",
    "\n",
    "\n",
    "Based on the House Committee on Oversight and Reform, economic studies and the Subcommittee’s analysis showed that industries show massive increases in profit after inflation. Therefore, we will base our results using adjusted total gross for this analysis [3](https://oversight.house.gov/news/press-releases/subcommittee-analysis-reveals-excessive-corporate-price-hikes-have-hurt). \n",
    "\n",
    "The high total gross for Adventure and action genres can be explained by the high production cost for these genes, which does not necessarily mean a high profit (net revenue) from these genes. "
   ]
  },
  {
   "cell_type": "markdown",
   "metadata": {},
   "source": [
    "To answer the second question about the most famous Disney hero, I will merge the two table `characters` and `movies_total_gross` to investigate which hero made the highest gross revenue. \n",
    "\n",
    " I will start first by dropping the missing value from the **hero** column which we explored earlier in this analysis. And I will also drop the **release_date** so we don't have repetitive columns.  "
   ]
  },
  {
   "cell_type": "code",
   "execution_count": 13,
   "metadata": {},
   "outputs": [],
   "source": [
    "# Extract rows with out NAN values in the 'hero' column in characters dataframe using the drop.na() function\n",
    "characters_hero = characters.dropna(subset=[\"hero\"]).drop(columns=\"release_date\")"
   ]
  },
  {
   "cell_type": "markdown",
   "metadata": {},
   "source": [
    "I will now merge the two tables on the **movie_title** column."
   ]
  },
  {
   "cell_type": "code",
   "execution_count": 14,
   "metadata": {},
   "outputs": [
    {
     "name": "stdout",
     "output_type": "stream",
     "text": [
      "<class 'pandas.core.frame.DataFrame'>\n",
      "Int64Index: 46 entries, 0 to 45\n",
      "Data columns (total 9 columns):\n",
      " #   Column                    Non-Null Count  Dtype         \n",
      "---  ------                    --------------  -----         \n",
      " 0   movie_title               46 non-null     object        \n",
      " 1   hero                      46 non-null     object        \n",
      " 2   villian                   41 non-null     object        \n",
      " 3   song                      42 non-null     object        \n",
      " 4   release_date              46 non-null     datetime64[ns]\n",
      " 5   genre                     45 non-null     object        \n",
      " 6   MPAA_rating               39 non-null     object        \n",
      " 7   total_gross               46 non-null     int64         \n",
      " 8   inflation_adjusted_gross  46 non-null     int64         \n",
      "dtypes: datetime64[ns](1), int64(2), object(6)\n",
      "memory usage: 3.6+ KB\n"
     ]
    }
   ],
   "source": [
    "# Reset the index so we can plot using altair in the average_revenue function\n",
    "movies_hero = pd.merge(\n",
    "    characters_hero, movies_total_gross, on=\"movie_title\", how=\"inner\"\n",
    ") \n",
    "movies_hero.info()"
   ]
  },
  {
   "cell_type": "markdown",
   "metadata": {},
   "source": [
    "Next, I will reuse the same function to find out the most famous Disney hero based on the total gross revenue."
   ]
  },
  {
   "cell_type": "code",
   "execution_count": 15,
   "metadata": {},
   "outputs": [
    {
     "name": "stdout",
     "output_type": "stream",
     "text": [
      "Simba in hero have the highest avergae total_gross of 422780140.0\n",
      "Aurora in hero have the lowest avergae total_gross of 9464608.0\n"
     ]
    },
    {
     "data": {
      "text/html": [
       "\n",
       "<div id=\"altair-viz-69c65e7a6864420faf85d6dfee9d43c7\"></div>\n",
       "<script type=\"text/javascript\">\n",
       "  var VEGA_DEBUG = (typeof VEGA_DEBUG == \"undefined\") ? {} : VEGA_DEBUG;\n",
       "  (function(spec, embedOpt){\n",
       "    let outputDiv = document.currentScript.previousElementSibling;\n",
       "    if (outputDiv.id !== \"altair-viz-69c65e7a6864420faf85d6dfee9d43c7\") {\n",
       "      outputDiv = document.getElementById(\"altair-viz-69c65e7a6864420faf85d6dfee9d43c7\");\n",
       "    }\n",
       "    const paths = {\n",
       "      \"vega\": \"https://cdn.jsdelivr.net/npm//vega@5?noext\",\n",
       "      \"vega-lib\": \"https://cdn.jsdelivr.net/npm//vega-lib?noext\",\n",
       "      \"vega-lite\": \"https://cdn.jsdelivr.net/npm//vega-lite@4.17.0?noext\",\n",
       "      \"vega-embed\": \"https://cdn.jsdelivr.net/npm//vega-embed@6?noext\",\n",
       "    };\n",
       "\n",
       "    function maybeLoadScript(lib, version) {\n",
       "      var key = `${lib.replace(\"-\", \"\")}_version`;\n",
       "      return (VEGA_DEBUG[key] == version) ?\n",
       "        Promise.resolve(paths[lib]) :\n",
       "        new Promise(function(resolve, reject) {\n",
       "          var s = document.createElement('script');\n",
       "          document.getElementsByTagName(\"head\")[0].appendChild(s);\n",
       "          s.async = true;\n",
       "          s.onload = () => {\n",
       "            VEGA_DEBUG[key] = version;\n",
       "            return resolve(paths[lib]);\n",
       "          };\n",
       "          s.onerror = () => reject(`Error loading script: ${paths[lib]}`);\n",
       "          s.src = paths[lib];\n",
       "        });\n",
       "    }\n",
       "\n",
       "    function showError(err) {\n",
       "      outputDiv.innerHTML = `<div class=\"error\" style=\"color:red;\">${err}</div>`;\n",
       "      throw err;\n",
       "    }\n",
       "\n",
       "    function displayChart(vegaEmbed) {\n",
       "      vegaEmbed(outputDiv, spec, embedOpt)\n",
       "        .catch(err => showError(`Javascript Error: ${err.message}<br>This usually means there's a typo in your chart specification. See the javascript console for the full traceback.`));\n",
       "    }\n",
       "\n",
       "    if(typeof define === \"function\" && define.amd) {\n",
       "      requirejs.config({paths});\n",
       "      require([\"vega-embed\"], displayChart, err => showError(`Error loading script: ${err.message}`));\n",
       "    } else {\n",
       "      maybeLoadScript(\"vega\", \"5\")\n",
       "        .then(() => maybeLoadScript(\"vega-lite\", \"4.17.0\"))\n",
       "        .then(() => maybeLoadScript(\"vega-embed\", \"6\"))\n",
       "        .catch(showError)\n",
       "        .then(() => displayChart(vegaEmbed));\n",
       "    }\n",
       "  })({\"config\": {\"view\": {\"continuousWidth\": 400, \"continuousHeight\": 300}}, \"data\": {\"name\": \"data-f96de8ea3f8b2a2b32b5b0862643355e\"}, \"mark\": {\"type\": \"bar\", \"color\": \"pink\"}, \"encoding\": {\"x\": {\"field\": \"hero\", \"sort\": \"y\", \"title\": \"Hero\", \"type\": \"nominal\"}, \"y\": {\"field\": \"total_gross\", \"title\": \"Total_gross\", \"type\": \"quantitative\"}}, \"height\": 300, \"title\": \"Hero vs. Total_gross\", \"width\": 500, \"$schema\": \"https://vega.github.io/schema/vega-lite/v4.17.0.json\", \"datasets\": {\"data-f96de8ea3f8b2a2b32b5b0862643355e\": [{\"hero\": \"Simba\", \"total_gross\": 422780140.0}, {\"hero\": \"Elsa\", \"total_gross\": 400738009.0}, {\"hero\": \"Judy Hopps\", \"total_gross\": 341268248.0}, {\"hero\": \"Alice\", \"total_gross\": 334191110.0}, {\"hero\": \"Moana\", \"total_gross\": 246082029.0}, {\"hero\": \"Hiro Hamada\", \"total_gross\": 222527828.0}, {\"hero\": \"Belle\", \"total_gross\": 218951625.0}, {\"hero\": \"Aladdin\", \"total_gross\": 217350219.0}, {\"hero\": \"Rapunzel\", \"total_gross\": 200821936.0}, {\"hero\": \"Ralph\", \"total_gross\": 189412677.0}, {\"hero\": \"Snow White\", \"total_gross\": 184925485.0}, {\"hero\": \"Mowgli\", \"total_gross\": 183395693.0}, {\"hero\": \"Tarzan\", \"total_gross\": 171091819.0}, {\"hero\": \"Lilo and Stitch\", \"total_gross\": 145771527.0}, {\"hero\": \"Cinderella\", \"total_gross\": 143075676.5}, {\"hero\": \"Pocahontas\", \"total_gross\": 141579773.0}, {\"hero\": \"Aladar\", \"total_gross\": 137748063.0}, {\"hero\": \"Ace Cluck\", \"total_gross\": 135386665.0}, {\"hero\": \"Mulan\", \"total_gross\": 120620254.0}, {\"hero\": \"Bolt\", \"total_gross\": 114053759.0}, {\"hero\": \"Ariel\", \"total_gross\": 111543479.0}, {\"hero\": \"Tiana\", \"total_gross\": 104400899.0}, {\"hero\": \"Quasimodo\", \"total_gross\": 100138851.0}, {\"hero\": \"Hercules\", \"total_gross\": 99112101.0}, {\"hero\": \"Lewis\", \"total_gross\": 97822171.0}, {\"hero\": \"Lady and Tramp\", \"total_gross\": 93600000.0}, {\"hero\": \"Kuzco\", \"total_gross\": 89296573.0}, {\"hero\": \"Kenai\", \"total_gross\": 85336277.0}, {\"hero\": \"Pinocchio\", \"total_gross\": 84300000.0}, {\"hero\": \"Milo Thatch\", \"total_gross\": 84052762.0}, {\"hero\": \"Thomas and Duchess\", \"total_gross\": 55675257.0}, {\"hero\": \"Maggie\", \"total_gross\": 50026353.0}, {\"hero\": \"Oliver\", \"total_gross\": 49576671.0}, {\"hero\": \"Tod and Copper\", \"total_gross\": 43899231.0}, {\"hero\": \"Bernard and Miss Bianca\", \"total_gross\": 38353530.0}, {\"hero\": \"Jim Hawkins\", \"total_gross\": 38120554.0}, {\"hero\": \"Basil\", \"total_gross\": 23605534.0}, {\"hero\": \"Arthur\", \"total_gross\": 22182353.0}, {\"hero\": \"Taran\", \"total_gross\": 21288692.0}, {\"hero\": \"Winnie the Pooh\", \"total_gross\": 13346423.0}, {\"hero\": \"Aurora\", \"total_gross\": 9464608.0}]}}, {\"mode\": \"vega-lite\"});\n",
       "</script>"
      ],
      "text/plain": [
       "alt.Chart(...)"
      ]
     },
     "metadata": {},
     "output_type": "display_data"
    }
   ],
   "source": [
    "popular_hero = average_revenue(movies_hero, \"hero\", \"total_gross\", \"show\")"
   ]
  },
  {
   "cell_type": "markdown",
   "metadata": {},
   "source": [
    "The plot shows that Simba is the most famous hero followed by Elsa. We can see a minor difference in total gross between the heroes. \n",
    "\n",
    "I will now plot the second visualization using the adjusted total gross after inflation to explore more. "
   ]
  },
  {
   "cell_type": "code",
   "execution_count": 16,
   "metadata": {},
   "outputs": [
    {
     "name": "stdout",
     "output_type": "stream",
     "text": [
      "Snow White in hero have the highest avergae inflation_adjusted_gross of 5228953251.0\n",
      "Winnie the Pooh in hero have the lowest avergae inflation_adjusted_gross of 14187934.5\n"
     ]
    },
    {
     "data": {
      "text/html": [
       "\n",
       "<div id=\"altair-viz-d88a4b8ce68c4607b4dab5ce99adfcf9\"></div>\n",
       "<script type=\"text/javascript\">\n",
       "  var VEGA_DEBUG = (typeof VEGA_DEBUG == \"undefined\") ? {} : VEGA_DEBUG;\n",
       "  (function(spec, embedOpt){\n",
       "    let outputDiv = document.currentScript.previousElementSibling;\n",
       "    if (outputDiv.id !== \"altair-viz-d88a4b8ce68c4607b4dab5ce99adfcf9\") {\n",
       "      outputDiv = document.getElementById(\"altair-viz-d88a4b8ce68c4607b4dab5ce99adfcf9\");\n",
       "    }\n",
       "    const paths = {\n",
       "      \"vega\": \"https://cdn.jsdelivr.net/npm//vega@5?noext\",\n",
       "      \"vega-lib\": \"https://cdn.jsdelivr.net/npm//vega-lib?noext\",\n",
       "      \"vega-lite\": \"https://cdn.jsdelivr.net/npm//vega-lite@4.17.0?noext\",\n",
       "      \"vega-embed\": \"https://cdn.jsdelivr.net/npm//vega-embed@6?noext\",\n",
       "    };\n",
       "\n",
       "    function maybeLoadScript(lib, version) {\n",
       "      var key = `${lib.replace(\"-\", \"\")}_version`;\n",
       "      return (VEGA_DEBUG[key] == version) ?\n",
       "        Promise.resolve(paths[lib]) :\n",
       "        new Promise(function(resolve, reject) {\n",
       "          var s = document.createElement('script');\n",
       "          document.getElementsByTagName(\"head\")[0].appendChild(s);\n",
       "          s.async = true;\n",
       "          s.onload = () => {\n",
       "            VEGA_DEBUG[key] = version;\n",
       "            return resolve(paths[lib]);\n",
       "          };\n",
       "          s.onerror = () => reject(`Error loading script: ${paths[lib]}`);\n",
       "          s.src = paths[lib];\n",
       "        });\n",
       "    }\n",
       "\n",
       "    function showError(err) {\n",
       "      outputDiv.innerHTML = `<div class=\"error\" style=\"color:red;\">${err}</div>`;\n",
       "      throw err;\n",
       "    }\n",
       "\n",
       "    function displayChart(vegaEmbed) {\n",
       "      vegaEmbed(outputDiv, spec, embedOpt)\n",
       "        .catch(err => showError(`Javascript Error: ${err.message}<br>This usually means there's a typo in your chart specification. See the javascript console for the full traceback.`));\n",
       "    }\n",
       "\n",
       "    if(typeof define === \"function\" && define.amd) {\n",
       "      requirejs.config({paths});\n",
       "      require([\"vega-embed\"], displayChart, err => showError(`Error loading script: ${err.message}`));\n",
       "    } else {\n",
       "      maybeLoadScript(\"vega\", \"5\")\n",
       "        .then(() => maybeLoadScript(\"vega-lite\", \"4.17.0\"))\n",
       "        .then(() => maybeLoadScript(\"vega-embed\", \"6\"))\n",
       "        .catch(showError)\n",
       "        .then(() => displayChart(vegaEmbed));\n",
       "    }\n",
       "  })({\"config\": {\"view\": {\"continuousWidth\": 400, \"continuousHeight\": 300}}, \"data\": {\"name\": \"data-8d15b5f4d971468fcb7359d665f12a0d\"}, \"mark\": {\"type\": \"bar\", \"color\": \"pink\"}, \"encoding\": {\"x\": {\"field\": \"hero\", \"sort\": \"y\", \"title\": \"Hero\", \"type\": \"nominal\"}, \"y\": {\"field\": \"inflation_adjusted_gross\", \"title\": \"Inflation_adjusted_gross\", \"type\": \"quantitative\"}}, \"height\": 300, \"title\": \"Hero vs. Inflation_adjusted_gross\", \"width\": 500, \"$schema\": \"https://vega.github.io/schema/vega-lite/v4.17.0.json\", \"datasets\": {\"data-8d15b5f4d971468fcb7359d665f12a0d\": [{\"hero\": \"Snow White\", \"inflation_adjusted_gross\": 5228953251.0}, {\"hero\": \"Pinocchio\", \"inflation_adjusted_gross\": 2188229052.0}, {\"hero\": \"Lady and Tramp\", \"inflation_adjusted_gross\": 1236035515.0}, {\"hero\": \"Simba\", \"inflation_adjusted_gross\": 761640898.0}, {\"hero\": \"Cinderella\", \"inflation_adjusted_gross\": 560880041.5}, {\"hero\": \"Aladdin\", \"inflation_adjusted_gross\": 441969178.0}, {\"hero\": \"Elsa\", \"inflation_adjusted_gross\": 414997174.0}, {\"hero\": \"Mowgli\", \"inflation_adjusted_gross\": 414181263.3333333}, {\"hero\": \"Belle\", \"inflation_adjusted_gross\": 363017667.0}, {\"hero\": \"Alice\", \"inflation_adjusted_gross\": 357063499.0}, {\"hero\": \"Judy Hopps\", \"inflation_adjusted_gross\": 341268248.0}, {\"hero\": \"Tarzan\", \"inflation_adjusted_gross\": 283900254.0}, {\"hero\": \"Pocahontas\", \"inflation_adjusted_gross\": 274370957.0}, {\"hero\": \"Thomas and Duchess\", \"inflation_adjusted_gross\": 255161499.0}, {\"hero\": \"Moana\", \"inflation_adjusted_gross\": 246082029.0}, {\"hero\": \"Hiro Hamada\", \"inflation_adjusted_gross\": 229249222.0}, {\"hero\": \"Ariel\", \"inflation_adjusted_gross\": 223726012.0}, {\"hero\": \"Mulan\", \"inflation_adjusted_gross\": 216807832.0}, {\"hero\": \"Aladar\", \"inflation_adjusted_gross\": 215438985.0}, {\"hero\": \"Rapunzel\", \"inflation_adjusted_gross\": 214388548.0}, {\"hero\": \"Lilo and Stitch\", \"inflation_adjusted_gross\": 211506702.0}, {\"hero\": \"Ralph\", \"inflation_adjusted_gross\": 200354959.0}, {\"hero\": \"Quasimodo\", \"inflation_adjusted_gross\": 190988799.0}, {\"hero\": \"Hercules\", \"inflation_adjusted_gross\": 182029412.0}, {\"hero\": \"Ace Cluck\", \"inflation_adjusted_gross\": 177954661.0}, {\"hero\": \"Arthur\", \"inflation_adjusted_gross\": 153870834.0}, {\"hero\": \"Kuzco\", \"inflation_adjusted_gross\": 136789252.0}, {\"hero\": \"Bolt\", \"inflation_adjusted_gross\": 133702498.0}, {\"hero\": \"Tod and Copper\", \"inflation_adjusted_gross\": 133118889.0}, {\"hero\": \"Milo Thatch\", \"inflation_adjusted_gross\": 125188122.0}, {\"hero\": \"Lewis\", \"inflation_adjusted_gross\": 119860589.0}, {\"hero\": \"Kenai\", \"inflation_adjusted_gross\": 119218333.0}, {\"hero\": \"Tiana\", \"inflation_adjusted_gross\": 116316457.0}, {\"hero\": \"Bernard and Miss Bianca\", \"inflation_adjusted_gross\": 107770321.0}, {\"hero\": \"Oliver\", \"inflation_adjusted_gross\": 102254492.0}, {\"hero\": \"Maggie\", \"inflation_adjusted_gross\": 67910166.0}, {\"hero\": \"Jim Hawkins\", \"inflation_adjusted_gross\": 55189145.0}, {\"hero\": \"Basil\", \"inflation_adjusted_gross\": 53637367.0}, {\"hero\": \"Taran\", \"inflation_adjusted_gross\": 50553142.0}, {\"hero\": \"Aurora\", \"inflation_adjusted_gross\": 21505832.0}, {\"hero\": \"Winnie the Pooh\", \"inflation_adjusted_gross\": 14187934.5}]}}, {\"mode\": \"vega-lite\"});\n",
       "</script>"
      ],
      "text/plain": [
       "alt.Chart(...)"
      ]
     },
     "metadata": {},
     "output_type": "display_data"
    }
   ],
   "source": [
    "popular_hero_adjusted = average_revenue(\n",
    "    movies_hero, \"hero\", \"inflation_adjusted_gross\", \"show\"\n",
    ")"
   ]
  },
  {
   "cell_type": "markdown",
   "metadata": {},
   "source": [
    "After inflation, it turns out that Snow White is the most famous Disney hero with a major difference compared to other heroes. These results contradict our prediction, but they can be explained by the publication date of the character. We know that the Seven Dwarfs movie have been published in 1937 which gave the character a long time to make huge commercial success internationally compared to Elsa or Simba. Also, we need to take into consideration that the Snow White and the Seven Dwarfs story have been improved and republished many times over the years. \n",
    "\n",
    "\n",
    "To conclude, we will base our results using adjusted total gross for this analysis. And we find out that the most popular Disney genre is Musical and the most famous character is Snow White from the Snow  White and the Seven Dwarfs movie. However, we still don't know exactly how much net revenue or profit each genre or hero made. \n",
    "\n",
    "I will use the `disney_revenue` table to explore the total Disney revenue using chart visualization. "
   ]
  },
  {
   "cell_type": "code",
   "execution_count": 17,
   "metadata": {},
   "outputs": [
    {
     "data": {
      "text/html": [
       "\n",
       "<div id=\"altair-viz-d550fc455ffb4326a4d675171abba14c\"></div>\n",
       "<script type=\"text/javascript\">\n",
       "  var VEGA_DEBUG = (typeof VEGA_DEBUG == \"undefined\") ? {} : VEGA_DEBUG;\n",
       "  (function(spec, embedOpt){\n",
       "    let outputDiv = document.currentScript.previousElementSibling;\n",
       "    if (outputDiv.id !== \"altair-viz-d550fc455ffb4326a4d675171abba14c\") {\n",
       "      outputDiv = document.getElementById(\"altair-viz-d550fc455ffb4326a4d675171abba14c\");\n",
       "    }\n",
       "    const paths = {\n",
       "      \"vega\": \"https://cdn.jsdelivr.net/npm//vega@5?noext\",\n",
       "      \"vega-lib\": \"https://cdn.jsdelivr.net/npm//vega-lib?noext\",\n",
       "      \"vega-lite\": \"https://cdn.jsdelivr.net/npm//vega-lite@4.17.0?noext\",\n",
       "      \"vega-embed\": \"https://cdn.jsdelivr.net/npm//vega-embed@6?noext\",\n",
       "    };\n",
       "\n",
       "    function maybeLoadScript(lib, version) {\n",
       "      var key = `${lib.replace(\"-\", \"\")}_version`;\n",
       "      return (VEGA_DEBUG[key] == version) ?\n",
       "        Promise.resolve(paths[lib]) :\n",
       "        new Promise(function(resolve, reject) {\n",
       "          var s = document.createElement('script');\n",
       "          document.getElementsByTagName(\"head\")[0].appendChild(s);\n",
       "          s.async = true;\n",
       "          s.onload = () => {\n",
       "            VEGA_DEBUG[key] = version;\n",
       "            return resolve(paths[lib]);\n",
       "          };\n",
       "          s.onerror = () => reject(`Error loading script: ${paths[lib]}`);\n",
       "          s.src = paths[lib];\n",
       "        });\n",
       "    }\n",
       "\n",
       "    function showError(err) {\n",
       "      outputDiv.innerHTML = `<div class=\"error\" style=\"color:red;\">${err}</div>`;\n",
       "      throw err;\n",
       "    }\n",
       "\n",
       "    function displayChart(vegaEmbed) {\n",
       "      vegaEmbed(outputDiv, spec, embedOpt)\n",
       "        .catch(err => showError(`Javascript Error: ${err.message}<br>This usually means there's a typo in your chart specification. See the javascript console for the full traceback.`));\n",
       "    }\n",
       "\n",
       "    if(typeof define === \"function\" && define.amd) {\n",
       "      requirejs.config({paths});\n",
       "      require([\"vega-embed\"], displayChart, err => showError(`Error loading script: ${err.message}`));\n",
       "    } else {\n",
       "      maybeLoadScript(\"vega\", \"5\")\n",
       "        .then(() => maybeLoadScript(\"vega-lite\", \"4.17.0\"))\n",
       "        .then(() => maybeLoadScript(\"vega-embed\", \"6\"))\n",
       "        .catch(showError)\n",
       "        .then(() => displayChart(vegaEmbed));\n",
       "    }\n",
       "  })({\"config\": {\"view\": {\"continuousWidth\": 400, \"continuousHeight\": 300}}, \"data\": {\"name\": \"data-4c724221c2dca2152af48cd5c529493e\"}, \"mark\": {\"type\": \"circle\", \"color\": \"red\", \"opacity\": 1, \"size\": 80}, \"encoding\": {\"x\": {\"field\": \"Year\", \"sort\": \"y\", \"title\": \"Year\", \"type\": \"ordinal\"}, \"y\": {\"field\": \"Total\", \"title\": \"Total Revenue\", \"type\": \"quantitative\"}}, \"height\": 300, \"selection\": {\"selector001\": {\"type\": \"interval\", \"bind\": \"scales\", \"encodings\": [\"x\", \"y\"]}}, \"title\": \"Total Revenue of Disney By year\", \"width\": 500, \"$schema\": \"https://vega.github.io/schema/vega-lite/v4.17.0.json\", \"datasets\": {\"data-4c724221c2dca2152af48cd5c529493e\": [{\"Year\": 1991, \"Studio Entertainment[NI 1]\": 2593.0, \"Disney Consumer Products[NI 2]\": 724.0, \"Disney Interactive[NI 3][Rev 1]\": null, \"Walt Disney Parks and Resorts\": 2794.0, \"Disney Media Networks\": null, \"Total\": 6111}, {\"Year\": 1992, \"Studio Entertainment[NI 1]\": 3115.0, \"Disney Consumer Products[NI 2]\": 1081.0, \"Disney Interactive[NI 3][Rev 1]\": null, \"Walt Disney Parks and Resorts\": 3306.0, \"Disney Media Networks\": null, \"Total\": 7502}, {\"Year\": 1993, \"Studio Entertainment[NI 1]\": 3673.4, \"Disney Consumer Products[NI 2]\": 1415.1, \"Disney Interactive[NI 3][Rev 1]\": null, \"Walt Disney Parks and Resorts\": 3440.7, \"Disney Media Networks\": null, \"Total\": 8529}, {\"Year\": 1994, \"Studio Entertainment[NI 1]\": 4793.0, \"Disney Consumer Products[NI 2]\": 1798.2, \"Disney Interactive[NI 3][Rev 1]\": null, \"Walt Disney Parks and Resorts\": 3463.6, \"Disney Media Networks\": \"359\", \"Total\": 10414}, {\"Year\": 1995, \"Studio Entertainment[NI 1]\": 6001.5, \"Disney Consumer Products[NI 2]\": 2150.0, \"Disney Interactive[NI 3][Rev 1]\": null, \"Walt Disney Parks and Resorts\": 3959.8, \"Disney Media Networks\": \"414\", \"Total\": 12525}, {\"Year\": 1996, \"Studio Entertainment[NI 1]\": null, \"Disney Consumer Products[NI 2]\": null, \"Disney Interactive[NI 3][Rev 1]\": null, \"Walt Disney Parks and Resorts\": 4502.0, \"Disney Media Networks\": \"4,142\", \"Total\": 18739}, {\"Year\": 1997, \"Studio Entertainment[NI 1]\": 6981.0, \"Disney Consumer Products[NI 2]\": 3782.0, \"Disney Interactive[NI 3][Rev 1]\": 174.0, \"Walt Disney Parks and Resorts\": 5014.0, \"Disney Media Networks\": \"6522\", \"Total\": 22473}, {\"Year\": 1998, \"Studio Entertainment[NI 1]\": 6849.0, \"Disney Consumer Products[NI 2]\": 3193.0, \"Disney Interactive[NI 3][Rev 1]\": 260.0, \"Walt Disney Parks and Resorts\": 5532.0, \"Disney Media Networks\": \"7142\", \"Total\": 22976}, {\"Year\": 1999, \"Studio Entertainment[NI 1]\": 6548.0, \"Disney Consumer Products[NI 2]\": 3030.0, \"Disney Interactive[NI 3][Rev 1]\": 206.0, \"Walt Disney Parks and Resorts\": 6106.0, \"Disney Media Networks\": \"7512\", \"Total\": 23402}, {\"Year\": 2000, \"Studio Entertainment[NI 1]\": 5994.0, \"Disney Consumer Products[NI 2]\": 2602.0, \"Disney Interactive[NI 3][Rev 1]\": 368.0, \"Walt Disney Parks and Resorts\": 6803.0, \"Disney Media Networks\": \"9615\", \"Total\": 25402}, {\"Year\": 2001, \"Studio Entertainment[NI 1]\": 7004.0, \"Disney Consumer Products[NI 2]\": 2590.0, \"Disney Interactive[NI 3][Rev 1]\": null, \"Walt Disney Parks and Resorts\": 6009.0, \"Disney Media Networks\": \"9569\", \"Total\": 25790}, {\"Year\": 2002, \"Studio Entertainment[NI 1]\": 6465.0, \"Disney Consumer Products[NI 2]\": 2440.0, \"Disney Interactive[NI 3][Rev 1]\": null, \"Walt Disney Parks and Resorts\": 6691.0, \"Disney Media Networks\": \"9733\", \"Total\": 25360}, {\"Year\": 2003, \"Studio Entertainment[NI 1]\": 7364.0, \"Disney Consumer Products[NI 2]\": 2344.0, \"Disney Interactive[NI 3][Rev 1]\": null, \"Walt Disney Parks and Resorts\": 6412.0, \"Disney Media Networks\": \"10941\", \"Total\": 27061}, {\"Year\": 2004, \"Studio Entertainment[NI 1]\": 8713.0, \"Disney Consumer Products[NI 2]\": 2511.0, \"Disney Interactive[NI 3][Rev 1]\": null, \"Walt Disney Parks and Resorts\": 7750.0, \"Disney Media Networks\": \"11778\", \"Total\": 30752}, {\"Year\": 2005, \"Studio Entertainment[NI 1]\": 7587.0, \"Disney Consumer Products[NI 2]\": 2127.0, \"Disney Interactive[NI 3][Rev 1]\": null, \"Walt Disney Parks and Resorts\": 9023.0, \"Disney Media Networks\": \"13207\", \"Total\": 31944}, {\"Year\": 2006, \"Studio Entertainment[NI 1]\": 7529.0, \"Disney Consumer Products[NI 2]\": 2193.0, \"Disney Interactive[NI 3][Rev 1]\": null, \"Walt Disney Parks and Resorts\": 9925.0, \"Disney Media Networks\": \"14368\", \"Total\": 34285}, {\"Year\": 2007, \"Studio Entertainment[NI 1]\": 7491.0, \"Disney Consumer Products[NI 2]\": 2347.0, \"Disney Interactive[NI 3][Rev 1]\": null, \"Walt Disney Parks and Resorts\": 10626.0, \"Disney Media Networks\": \"15046\", \"Total\": 35510}, {\"Year\": 2008, \"Studio Entertainment[NI 1]\": 7348.0, \"Disney Consumer Products[NI 2]\": 2415.0, \"Disney Interactive[NI 3][Rev 1]\": 719.0, \"Walt Disney Parks and Resorts\": 11504.0, \"Disney Media Networks\": \"15857\", \"Total\": 37843}, {\"Year\": 2009, \"Studio Entertainment[NI 1]\": 6136.0, \"Disney Consumer Products[NI 2]\": 2425.0, \"Disney Interactive[NI 3][Rev 1]\": 712.0, \"Walt Disney Parks and Resorts\": 10667.0, \"Disney Media Networks\": \"16209\", \"Total\": 36149}, {\"Year\": 2010, \"Studio Entertainment[NI 1]\": 6701.0, \"Disney Consumer Products[NI 2]\": 2678.0, \"Disney Interactive[NI 3][Rev 1]\": 761.0, \"Walt Disney Parks and Resorts\": 10761.0, \"Disney Media Networks\": \"17162\", \"Total\": 38063}, {\"Year\": 2011, \"Studio Entertainment[NI 1]\": 6351.0, \"Disney Consumer Products[NI 2]\": 3049.0, \"Disney Interactive[NI 3][Rev 1]\": 982.0, \"Walt Disney Parks and Resorts\": 11797.0, \"Disney Media Networks\": \"18714\", \"Total\": 40893}, {\"Year\": 2012, \"Studio Entertainment[NI 1]\": 5825.0, \"Disney Consumer Products[NI 2]\": 3252.0, \"Disney Interactive[NI 3][Rev 1]\": 845.0, \"Walt Disney Parks and Resorts\": 12920.0, \"Disney Media Networks\": \"19436\", \"Total\": 42278}, {\"Year\": 2013, \"Studio Entertainment[NI 1]\": 5979.0, \"Disney Consumer Products[NI 2]\": 3555.0, \"Disney Interactive[NI 3][Rev 1]\": 1064.0, \"Walt Disney Parks and Resorts\": 14087.0, \"Disney Media Networks\": \"20356\", \"Total\": 45041}, {\"Year\": 2014, \"Studio Entertainment[NI 1]\": 7278.0, \"Disney Consumer Products[NI 2]\": 3985.0, \"Disney Interactive[NI 3][Rev 1]\": 1299.0, \"Walt Disney Parks and Resorts\": 15099.0, \"Disney Media Networks\": \"21152\", \"Total\": 48813}, {\"Year\": 2015, \"Studio Entertainment[NI 1]\": 7366.0, \"Disney Consumer Products[NI 2]\": 4499.0, \"Disney Interactive[NI 3][Rev 1]\": 1174.0, \"Walt Disney Parks and Resorts\": 16162.0, \"Disney Media Networks\": \"23264\", \"Total\": 52465}, {\"Year\": 2016, \"Studio Entertainment[NI 1]\": 9441.0, \"Disney Consumer Products[NI 2]\": null, \"Disney Interactive[NI 3][Rev 1]\": null, \"Walt Disney Parks and Resorts\": 16974.0, \"Disney Media Networks\": \"23689\", \"Total\": 55632}]}}, {\"mode\": \"vega-lite\"});\n",
       "</script>"
      ],
      "text/plain": [
       "alt.Chart(...)"
      ]
     },
     "execution_count": 17,
     "metadata": {},
     "output_type": "execute_result"
    }
   ],
   "source": [
    "# plot revenue using altair\n",
    "yearly_revenue = (\n",
    "    alt.Chart(disney_revenue, width=500, height=300)\n",
    "    .mark_circle(color=\"red\", size=80, opacity=1)\n",
    "    .encode(\n",
    "        x=alt.X(\"Year:O\", sort=\"y\", title=\"Year\"),\n",
    "        y=alt.Y(\"Total:Q\", title=\"Total Revenue\"),\n",
    "    )\n",
    "    .properties(title=\"Total Revenue of Disney By year\")\n",
    ").interactive()\n",
    "yearly_revenue"
   ]
  },
  {
   "cell_type": "markdown",
   "metadata": {},
   "source": [
    "We can clearly see the linear increase in the total Disney revenue over the years. This chart alines with the idea that old characters would increase in revenue if have been developed and republished. The economic and inflation factors also played a role in the yearly revenue increase."
   ]
  },
  {
   "cell_type": "markdown",
   "metadata": {},
   "source": [
    "# Discussions\n",
    "\n",
    "In this notebook, I analyzed the Disney datasets and computed the most popular Disney genre and hero. Before reaching the answer, I applied a custom-made function that helped visualize the data. I used the total gross and the adjusted total gross after inflation to explore which genre and hero has the highest average gross revenue. Based on House Committee on Oversight and Reformthe, I relied on the average of the adjusted total gross after inflation to derive the results. I found out that the Musical genre has the highest average adjusted total gross which matched my expectation. And I found out that the Snow white had an extremely high total gross average after inflation which was not expected. \n",
    "\n",
    "\n",
    "My original guess for the most famous hero would have been Elsa from the movie Frozen. I was amazed to know that Snow White and the Seven Dwarfs movie have been published in 1937 and has been recreated and republished several times by the Walt Disney Studios. Comparing this old character to a new character developed recently, the results aline with the hero's character background and success. \n",
    "\n",
    "However, the order for the rest of the genre and hero computed might not be accurate. For example in the second plot, we can see that Comedy, Romantic Comedy, Western and Drama genres have almost no difference in total gross. The same for the heroes Aladdin, Elsa, Mowgli and Belle in the fourth plot. Therefore, we need to ask another question for more accurate results: What is the net revenue for each genre and each Disney movie? Since we know that gross revenue includes production cost, payroll net pay and others. Net revenue is the profit Disney made from a movie or genre. It will be interesting to know if old heroes are still making a high profit or if they will be abundant over the years."
   ]
  },
  {
   "cell_type": "markdown",
   "metadata": {},
   "source": [
    "# References\n",
    " \n",
    "* 1. [Disney Data Source](https://data.world/kgarrett/disney-character-success-00-16)\n",
    "    * This Disney database used in this work.\n",
    "* 2. [The Walt Disney Company](https://thewaltdisneycompany.com/about/#our-businesses)\n",
    "    * The website used to describe the Disney dataset background.  \n",
    "* 3. [House Committee on Oversight and Reform](https://oversight.house.gov/news/press-releases/subcommittee-analysis-reveals-excessive-corporate-price-hikes-have-hurt)\n",
    "    * The website used to identify the impact of inflation on industries. \n",
    "* 4. [Film Reviews: Snow White and 7 Dwarfs](https://archive.org/details/variety128-1937-12/page/n265/mode/2up)\n",
    "    * The Snow White and 7 Dwarfs movie has been published in 1937, according to the Variety Publishing Company.\n",
    "\n",
    "\n",
    "    \n"
   ]
  }
 ],
 "metadata": {
  "kernelspec": {
   "display_name": "Python 3 (ipykernel)",
   "language": "python",
   "name": "python3"
  },
  "language_info": {
   "codemirror_mode": {
    "name": "ipython",
    "version": 3
   },
   "file_extension": ".py",
   "mimetype": "text/x-python",
   "name": "python",
   "nbconvert_exporter": "python",
   "pygments_lexer": "ipython3",
   "version": "3.9.12"
  }
 },
 "nbformat": 4,
 "nbformat_minor": 4
}
